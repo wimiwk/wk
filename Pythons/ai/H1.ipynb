{
 "cells": [
  {
   "attachments": {},
   "cell_type": "markdown",
   "metadata": {},
   "source": [
    "# H3 - Univariate Linear Regression\n",
    "\n",
    "- Student Name:魏侃\n",
    "- Student ID:2022141460123\n",
    "- Deadline: \n",
    "- Submit to："
   ]
  },
  {
   "cell_type": "code",
   "execution_count": 10,
   "metadata": {},
   "outputs": [],
   "source": [
    "# import necessary modules\n",
    "from matplotlib import pyplot as plt"
   ]
  },
  {
   "cell_type": "markdown",
   "metadata": {},
   "source": [
    "## data"
   ]
  },
  {
   "cell_type": "code",
   "execution_count": 11,
   "metadata": {},
   "outputs": [],
   "source": [
    "x=[1.156762,2.624116,2.943006,2.499967,3.530516,4.045524,5.60725,5.784322,7.01605,8.304229,7.351775,8.799763,9.3467,10.232547,11.872116]\n",
    "y=[3.949326,1.746431,9.902035,5.32671,10.569117,12.493749,14.531507,15.758228,12.235891,12.536069,19.349313,18.347272,18.812099,19.750414,24.672962]"
   ]
  },
  {
   "cell_type": "markdown",
   "metadata": {},
   "source": []
  },
  {
   "cell_type": "markdown",
   "metadata": {},
   "source": [
    "# univariate linear model\n",
    "\n",
    "$a = w*x + b$"
   ]
  },
  {
   "cell_type": "code",
   "execution_count": 12,
   "metadata": {},
   "outputs": [],
   "source": [
    "class UniLinearModel:\n",
    "    def __init__(self, w=0.1, b=0.1):\n",
    "        self.w, self.b = w, b\n",
    "    \n",
    "    def __call__(self, x):\n",
    "        a = 0.\n",
    "        a=self.w*x+self.b\n",
    "        #calculate a by using w and b\n",
    "        return a\n",
    "    \n",
    "    def update(self, w, b):\n",
    "        self.w, self.b = w, b\n"
   ]
  },
  {
   "cell_type": "markdown",
   "metadata": {},
   "source": [
    "## implement Least Squares Approximations\n",
    "\n",
    "- step1: $\\bar{x} = \\frac{1}{m}\\sum^{m}_{i=1}{x^{i}}$\n",
    "- step2: $\\bar{y} = \\frac{1}{m}\\sum^{m}_{i=1}{y^{i}}$\n",
    "- step3: $w = \\frac{\\sum_{i=1}^{m}{y^{i}*x^{i}} - m \\bar{y}* \\bar{x}}{\\sum_{i=1}^{m}{x^{i}*x^{i}} - m \\bar{x}* \\bar{x}}$\n",
    "- step4: $b = \\bar{y} - w * \\bar{x}$"
   ]
  },
  {
   "cell_type": "code",
   "execution_count": null,
   "metadata": {},
   "outputs": [],
   "source": [
    "def uni_least_square(x, y):\n",
    "    w, b = 1., 1.\n",
    "    # step 1: calculate mean of x\n",
    "    cal_x=0.\n",
    "    m=0.\n",
    "    for t in x:\n",
    "        m+=1\n",
    "        cal_x+=t\n",
    "    cal_x=cal_x/m\n",
    "    # step 2: calculate mean of y\n",
    "    cal_y=0.\n",
    "    for t in y:\n",
    "        cal_y+=t\n",
    "    cal_y=cal_y/m\n",
    "    # step 3: calculate w\n",
    "    count=0\n",
    "    w_fz=0.\n",
    "    w_fm=0.\n",
    "    for i in range(len(x)):\n",
    "        # step 3.1: calculate the sum of y^{i}*x^{i}\n",
    "        w_fz+=x[count]*y[count]\n",
    "        # step 3.2: calculate the sum of square of x^{i}\n",
    "        w_fm+=x[count]*x[count]\n",
    "        count+=1\n",
    "    w_fz-=m*cal_x*cal_y\n",
    "    w_fm-=m*cal_x*cal_x\n",
    "    # step 3.3 calculate w\n",
    "    w=w_fz/w_fm\n",
    "    # step 4: calculate b \n",
    "    b=cal_y-w*cal_x\n",
    "    return w, b\n",
    "\n",
    "w, b = uni_least_square(x, y)\n",
    "print(\"-\"*40)\n",
    "print(\"least square method: w={}, b={}\".format(w, b))\n",
    "print(\"-\"*40)\n",
    "\n",
    "model = UniLinearModel()\n",
    "model.update(w, b)\n",
    "a = [model(x_i) for x_i in x]\n",
    "\n",
    "plt.figure()\n",
    "plt.plot(x, y, 'o')\n",
    "plt.plot(x, a, '-')"
   ]
  },
  {
   "cell_type": "markdown",
   "metadata": {},
   "source": [
    "## implement grad descent algorithm for univariate lienear regression\n",
    "\n",
    "\n",
    "- step 1: calculate a for each x : $a^{i} = w*x^{i} + b$\n",
    "- step 2: calculate  $\\frac{\\partial J}{\\partial w} =  \\frac{1}{m}\\sum_{i=1}^{m}{[(a^{i}-y^{i})*x^{i}}]$\n",
    "- step 3: calculate  $\\frac{\\partial J}{\\partial b} = \\frac{1}{m}\\sum_{i=1}^{m}{(a^{i}-y^{i})}$\n",
    "- step 4: update w by:  $w \\gets w - \\alpha \\frac{\\partial J}{\\partial w}$\n",
    "- step 5: update b by:  $b \\gets b - \\alpha \\frac{\\partial J}{\\partial b}$"
   ]
  },
  {
   "cell_type": "markdown",
   "metadata": {},
   "source": []
  },
  {
   "cell_type": "code",
   "execution_count": 14,
   "metadata": {},
   "outputs": [
    {
     "name": "stdout",
     "output_type": "stream",
     "text": [
      "----------------------------------------\n",
      "gradient descent method: w=0, b=0\n",
      "----------------------------------------\n"
     ]
    },
    {
     "data": {
      "text/plain": [
       "<matplotlib.legend.Legend at 0x29972908340>"
      ]
     },
     "execution_count": 14,
     "metadata": {},
     "output_type": "execute_result"
    },
    {
     "data": {
      "image/png": "[encoded data removed]",
      "text/plain": [
       "<Figure size 432x288 with 1 Axes>"
      ]
     },
     "metadata": {
      "needs_background": "light"
     },
     "output_type": "display_data"
    },
    {
     "data": {
      "image/png": "[encoded data removed]",
      "text/plain": [
       "<Figure size 432x288 with 1 Axes>"
      ]
     },
     "metadata": {
      "needs_background": "light"
     },
     "output_type": "display_data"
    }
   ],
   "source": [
    "def grad(model, x, y):\n",
    "    grad_w, grad_b = 0, 0\n",
    "    # step 1: calculate a for each x : $a^{i} = w*x^{i} + b$\n",
    "    count=0\n",
    "    for i in range(len(a)):\n",
    "        a[count]=w*x[count]+b\n",
    "        grad_w+=(a[count]-y[count])*x[count]\n",
    "        grad_b+=(a[count]-y[count])\n",
    "        count+=1\n",
    "    m=count\n",
    "    # step 2: calculate  gradient of J with respect to w\n",
    "    grad_w=grad_w/m\n",
    "    # step 3: calculate  gradient of J with respect to b\n",
    "    grad_b=grad_b/m\n",
    "    return grad_w, grad_b\n",
    "\n",
    "def cost(model, x, y):\n",
    "    J = sum([(model(x_i)-y_i)**2 for x_i, y_i in zip(x, y)])/len(x)/2\n",
    "    return J\n",
    "    \n",
    "model = UniLinearModel()\n",
    "\n",
    "alpha = 0.01\n",
    "Js = []\n",
    "\n",
    "for k in range(20):\n",
    "    w, b = model.w, model.b\n",
    "    grad_w, grad_b = grad(model, x, y)\n",
    "    #################\n",
    "    ### Your Code Here\n",
    "    w_next, b_next = 0, 0\n",
    "    # step 4: update w \n",
    "    w=grad_w\n",
    "    # step 5: update b \n",
    "    b=grad_b\n",
    "    #step3: update linear model\n",
    "    model.update(w_next, b_next)\n",
    "    #################\n",
    "    Js.append(cost(model, x, y))\n",
    "\n",
    "\n",
    "plt.plot(Js,'r-*',label=\"cost\")\n",
    "plt.legend()\n",
    "print(\"-\"*40)\n",
    "print(\"gradient descent method: w={}, b={}\".format(w, b))\n",
    "print(\"-\"*40)    \n",
    "    \n",
    "a = [model(x_i) for x_i in x]\n",
    "\n",
    "plt.figure()\n",
    "plt.plot(x, y, 'o', label=\"data\")\n",
    "plt.plot(x, a, '-', label=\"linear model\")\n",
    "plt.legend()"
   ]
  }
 ],
 "metadata": {
  "interpreter": {
   "hash": "14da386a6e18213291816d02815fd85819b117a8cdf1629134f14b53ba124c27"
  },
  "kernelspec": {
   "display_name": "Python 3.9.2 64-bit",
   "language": "python",
   "name": "python3"
  },
  "language_info": {
   "codemirror_mode": {
    "name": "ipython",
    "version": 3
   },
   "file_extension": ".py",
   "mimetype": "text/x-python",
   "name": "python",
   "nbconvert_exporter": "python",
   "pygments_lexer": "ipython3",
   "version": "3.11.2"
  },
  "orig_nbformat": 4
 },
 "nbformat": 4,
 "nbformat_minor": 2
}
