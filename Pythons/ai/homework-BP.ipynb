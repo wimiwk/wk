{
 "cells": [
  {
   "cell_type": "code",
   "execution_count": 7,
   "metadata": {},
   "outputs": [],
   "source": [
    "import numpy as np\n",
    "from matplotlib import pyplot as plt"
   ]
  },
  {
   "attachments": {},
   "cell_type": "markdown",
   "metadata": {},
   "source": [
    "## Dataset\n",
    "\n",
    "$D=\\{(x\\in R^{2}, y\\in R^{3})| m \\; samples \\}$\n"
   ]
  },
  {
   "cell_type": "code",
   "execution_count": 8,
   "metadata": {},
   "outputs": [],
   "source": [
    "# generate dataset randomly\n",
    "x_dim, y_dim = 2, 5\n",
    "m = 3 \n",
    "x = np.random.rand(x_dim, m) \n",
    "y = np.random.rand(y_dim, m) "
   ]
  },
  {
   "attachments": {},
   "cell_type": "markdown",
   "metadata": {},
   "source": [
    "## network settings"
   ]
  },
  {
   "cell_type": "code",
   "execution_count": 9,
   "metadata": {},
   "outputs": [
    {
     "name": "stdout",
     "output_type": "stream",
     "text": [
      "size of connections:\n",
      "size of w_0 is : (4, 2)\n",
      "size of w_1 is : (3, 4)\n",
      "size of w_2 is : (5, 3)\n"
     ]
    }
   ],
   "source": [
    "L = 4 # num of layers\n",
    "N = [x_dim, 4, 3, y_dim] # num of neurons of each layer\n",
    "w = [np.random.rand(N[l+1], N[l]) for l in range(L-1)]\n",
    "\n",
    "print(\"size of connections:\")\n",
    "for l, w_l in enumerate(w):\n",
    "    print(\"size of w_{} is : {}\".format(l, w_l.shape))"
   ]
  },
  {
   "attachments": {},
   "cell_type": "markdown",
   "metadata": {},
   "source": [
    "## activation function\n",
    "- $f(z) = \\frac{1}{1+exp(-z)}$\n",
    "- $\\dot{f}(z) = f(z)\\cdot (1-f(z))$"
   ]
  },
  {
   "cell_type": "code",
   "execution_count": 10,
   "metadata": {},
   "outputs": [],
   "source": [
    "def sigmoid(z):\n",
    "    return 1/(1+np.exp(-z))\n",
    "def dfsigmoid(z):\n",
    "    return sigmoid(z)*(1-sigmoid(z))"
   ]
  },
  {
   "attachments": {},
   "cell_type": "markdown",
   "metadata": {},
   "source": [
    "# forward computing\n",
    "- $z^{l+1} = w^{l}a^{l}$\n",
    "- $a^{l+1} = f(z^{l+1})$"
   ]
  },
  {
   "cell_type": "code",
   "execution_count": 11,
   "metadata": {},
   "outputs": [],
   "source": [
    "def forward(x, w, L, N):\n",
    "    m = x.shape[1] # batch size\n",
    "    z = [np.zeros((N[l], m)) for l in range(L)]\n",
    "    a = [np.zeros_like(z_l) for z_l in z]\n",
    "    \n",
    "    a[0] = x # set input\n",
    "    for l in range(0, L-1):\n",
    "        \n",
    "        ### Your code here ###\n",
    "        z[l+1] = np.random.rand(z[l+1].shape[0], z[l+1].shape[1])\n",
    "        a[l+1] = np.random.rand(a[l+1].shape[0], a[l+1].shape[1])\n",
    "        z[l+1] = np.dot(w[l], a[l])\n",
    "        a[l+1] = sigmoid(z[l+1])\n",
    "        ### end of Your code ###\n",
    "    \n",
    "    return a, z"
   ]
  },
  {
   "attachments": {},
   "cell_type": "markdown",
   "metadata": {},
   "source": [
    "## cost function\n",
    "- $J = \\frac{1}{2m} (y-a^{L})^2$\n",
    "- $\\delta^{L} = \\frac{\\partial J}{\\partial z^{L}} = (a^{L} - y) \\cdot \\dot{f}(z^{L})$"
   ]
  },
  {
   "cell_type": "code",
   "execution_count": 12,
   "metadata": {},
   "outputs": [],
   "source": [
    "def cost(y, a):\n",
    "    m = a.shape[1]\n",
    "    return np.sum(np.square(y-a))/m/2"
   ]
  },
  {
   "attachments": {},
   "cell_type": "markdown",
   "metadata": {},
   "source": [
    "## backward propagation\n",
    "- $\\delta^{l} = {w^{l}}^{(T)}\\delta^{l+1} \\cdot \\dot{f}(z^l)$\n",
    "- $\\frac{\\partial J}{\\partial w^{l}} = \\frac{1}{m}\\delta^{l+1}{a^{l}}^{(T)}$"
   ]
  },
  {
   "cell_type": "code",
   "execution_count": 13,
   "metadata": {},
   "outputs": [],
   "source": [
    "def backward(y, w, z, a):\n",
    "    m = y.shape[1] # batch size\n",
    "    L = len(a)\n",
    "    \n",
    "    delta = [np.zeros_like(z_l) for z_l in z]\n",
    "    grad_w = [np.zeros_like(w_l) for w_l in w]\n",
    "    \n",
    "    \n",
    "    # compute delta for the last layer\n",
    "    delta[-1] = a[-1] - y\n",
    "    \n",
    "    # compute delta for the hidden layers\n",
    "    for l in range(L-2, -1, -1):\n",
    "        delta[l] = dfsigmoid(z[l]) * np.dot(w[l].T, delta[l+1])\n",
    "    \n",
    "    # compute gradients\n",
    "    for l in range(L-2, -1, -1):\n",
    "        grad_w[l] = np.dot(delta[l+1], a[l].T)\n",
    "    \n",
    "    for l in range(0, L-1):\n",
    "        grad_w[l] += np.zeros_like(grad_w[l])\n",
    "    \n",
    "    return grad_w "
   ]
  },
  {
   "attachments": {},
   "cell_type": "markdown",
   "metadata": {},
   "source": [
    "## numerical_grad\n",
    "- $\\frac{\\partial J}{\\partial w^{l}_{ij}} = \\frac{J(w^{l}_{ij}+\\epsilon) - J(w^{l}_{ij} - \\epsilon)}{2\\cdot \\epsilon}$"
   ]
  },
  {
   "cell_type": "code",
   "execution_count": 14,
   "metadata": {},
   "outputs": [],
   "source": [
    "def numerical_grad(l, epsilon, x, w, L, N, y):\n",
    "    grad = np.zeros_like(w[l])\n",
    "    for i in range(N[l+1]):\n",
    "        for j in range(N[l]):\n",
    "            w_minus = [w_l.copy() for w_l in w]\n",
    "            w_minus[l][i,j] = w_minus[l][i,j] - epsilon\n",
    "            a_minus, _ = forward(x, w_minus, L, N)\n",
    "            J_minus = cost(a_minus[-1], y)\n",
    "            \n",
    "            w_plus = [w_l.copy() for w_l in w]\n",
    "            w_plus[l][i,j] = w_plus[l][i,j] + epsilon\n",
    "            a_plus, _ = forward(x, w_plus, L, N)\n",
    "            J_plus = cost(a_plus[-1], y)\n",
    "\n",
    "            grad[i,j] = (J_plus - J_minus)/(2*epsilon)\n",
    "\n",
    "    return grad"
   ]
  },
  {
   "cell_type": "code",
   "execution_count": 15,
   "metadata": {},
   "outputs": [
    {
     "name": "stdout",
     "output_type": "stream",
     "text": [
      "grad difference for w_0 is 8280.45004717501, check grad failed\n",
      "grad difference for w_1 is 25666.537849056436, check grad failed\n",
      "grad difference for w_2 is 21654.924391080414, check grad failed\n"
     ]
    }
   ],
   "source": [
    "a, z = forward(x, w, L, N)\n",
    "grad_w = backward(y, w, z, a)\n",
    "epsilon = 1e-5\n",
    "\n",
    "for l in range(0, L-1):\n",
    "    num_grad = numerical_grad(l, epsilon, x, w, L, N, y)\n",
    "    grad_diff = np.sqrt(np.square(grad_w[l] - num_grad).sum())\n",
    "    \n",
    "    check_str = \"check grad success\" if grad_diff < 1e-8 else \"check grad failed\"\n",
    "    print(\"grad difference for w_{} is {}, {}\".format(l, grad_diff, check_str))"
   ]
  },
  {
   "cell_type": "code",
   "execution_count": null,
   "metadata": {},
   "outputs": [],
   "source": []
  }
 ],
 "metadata": {
  "kernelspec": {
   "display_name": "Python 3",
   "language": "python",
   "name": "python3"
  },
  "language_info": {
   "codemirror_mode": {
    "name": "ipython",
    "version": 3
   },
   "file_extension": ".py",
   "mimetype": "text/x-python",
   "name": "python",
   "nbconvert_exporter": "python",
   "pygments_lexer": "ipython3",
   "version": "3.7.4"
  }
 },
 "nbformat": 4,
 "nbformat_minor": 4
}
