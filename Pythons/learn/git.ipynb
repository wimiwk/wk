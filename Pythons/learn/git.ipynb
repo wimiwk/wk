{
 "cells": [
  {
   "attachments": {},
   "cell_type": "markdown",
   "metadata": {},
   "source": [
    "# user \n",
    "- git config --global user.name \"wimiwk\"\n",
    "- git config --global user.email \"1145569944@qq.com\"\n",
    "- git config --global  --list #查看"
   ]
  },
  {
   "attachments": {},
   "cell_type": "markdown",
   "metadata": {},
   "source": [
    "# ssh连接\n",
    "- ~/.ssh#检查是否生成ssh文件夹,执行命令后切换到.ssh文件夹下\n",
    "- ssh-keygen -t rsa -c \"这是你的邮箱\"\n",
    "- 打开id_rsa.pub文件，并且复制全部内容\n",
    "- 进入github，找到setting,再找到 SSHKeys，将复制的的内容放到 key立即可"
   ]
  },
  {
   "attachments": {},
   "cell_type": "markdown",
   "metadata": {},
   "source": [
    "# orders\n",
    "- git init # 初始化仓库\n",
    "- git branch -m master main # 改一下分支名字\n",
    "- git add xxx # 添加\n",
    "- git commit -m \"你想说什么呢？\"\n",
    "- git status # 状态\n",
    "- git log # 记录\n",
    "- git reset --hard xxx # 版本回溯\n",
    "- git remote add origin git@github.com:xxx/xxx # 添加远程\n",
    "- git push -u origin main # 第一次push\n",
    "- git push # 日常更新\n",
    "- git pull # 拉取\n",
    "- git clone xxxx # 克隆"
   ]
  }
 ],
 "metadata": {
  "kernelspec": {
   "display_name": "Python 3",
   "language": "python",
   "name": "python3"
  },
  "language_info": {
   "name": "python",
   "version": "3.11.2"
  },
  "orig_nbformat": 4
 },
 "nbformat": 4,
 "nbformat_minor": 2
}
